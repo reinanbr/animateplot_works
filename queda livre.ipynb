{
 "cells": [
  {
   "cell_type": "code",
   "execution_count": null,
   "id": "ad1acfaf",
   "metadata": {},
   "outputs": [],
   "source": [
    "import matplotlib.pyplot as plt\n",
    "import numpy as np\n",
    "import sympy as sy\n",
    "from animateplot import AnimatePlot as ap\n",
    "plt.style.use('seaborn')"
   ]
  },
  {
   "cell_type": "code",
   "execution_count": 26,
   "id": "6937420f",
   "metadata": {},
   "outputs": [],
   "source": [
    "t,k,m,g = sy.symbols('t k m g')"
   ]
  },
  {
   "cell_type": "code",
   "execution_count": 27,
   "id": "0ccf2201",
   "metadata": {},
   "outputs": [
    {
     "data": {
      "text/latex": [
       "$\\displaystyle \\frac{k m \\left(1 - e^{- \\frac{k t}{m}}\\right)}{g}$"
      ],
      "text/plain": [
       "k*m*(1 - exp(-k*t/m))/g"
      ]
     },
     "execution_count": 27,
     "metadata": {},
     "output_type": "execute_result"
    }
   ],
   "source": [
    "v = (m*k/g)*(1-sy.exp(-t*k/m))\n",
    "v"
   ]
  },
  {
   "cell_type": "code",
   "execution_count": 28,
   "id": "8a77a909",
   "metadata": {},
   "outputs": [
    {
     "data": {
      "text/latex": [
       "$\\displaystyle \\frac{k^{2} m e^{- \\frac{k t}{m}}}{g}$"
      ],
      "text/plain": [
       "k**2*m*exp(-k*t/m)/g"
      ]
     },
     "execution_count": 28,
     "metadata": {},
     "output_type": "execute_result"
    }
   ],
   "source": [
    "f = m*v.diff(t)\n",
    "f"
   ]
  },
  {
   "cell_type": "code",
   "execution_count": 25,
   "id": "c32ea085",
   "metadata": {
    "scrolled": true
   },
   "outputs": [
    {
     "name": "stdout",
     "output_type": "stream",
     "text": [
      "ended saved cache images! |  73.64m/s  |  1743.6s | 0.7s]]\n",
      "[150 images saved in 1743.6s | speed: 0.1/img/s | ping: 11624.0ms]\n"
     ]
    },
    {
     "data": {
      "text/plain": [
       "<Figure size 800x550 with 0 Axes>"
      ]
     },
     "metadata": {},
     "output_type": "display_data"
    }
   ],
   "source": [
    "m = 80\n",
    "k = 4.3\n",
    "g = 9.8\n",
    "t = np.linspace(0,90,150)\n",
    "\n",
    "def v(t):\n",
    "    return (m*k/g)*(1-np.exp(-t*k/m))\n",
    "\n",
    "\n",
    "v_f = [m*k/g for _ in t]\n",
    "\n",
    "def callplt(plt,v_,t):\n",
    "    t_txt = 0\n",
    "    if len(t)>2:\n",
    "        t_txt = t[-1]\n",
    "    plt.plot(t,v_,'.',label='velocidade do paraquedista\\n'+rf'$m={m}kg$'+'\\n'+rf'$k={k}N*s²/m²$'+'\\n'+rf'$g={g}m/s²$'+'\\n'+rf'$t={t_txt:.1f}s$',c='red')\n",
    "    plt.plot(t,v_f[:len(t)],label='velocidade final',c='black')\n",
    "    plt.xlabel(r'tempo (s)')\n",
    "    plt.ylabel(r'm/s')\n",
    "    plt.legend(loc='center right')\n",
    "    plt.ylim(0,40)\n",
    "    plt.xlim(0,100)\n",
    "    plt.annotate(r'$v(t)=\\frac{mk}{g}(1-e^{-kt/m})$',xytext=(0,30),xy=(29,29),fontweight='bold',size=10,arrowprops = dict(facecolor ='red',\n",
    "                                  shrink = 0.05))\n",
    "    \n",
    "    plt.annotate(r'$v_{t \\to \\infty}=mk/g$',xytext=(5,37),xy=(22,35),fontweight='bold',size=9,arrowprops = dict(facecolor ='black',\n",
    "                                  shrink = 0.05))\n",
    "    plt.title('problema do corpo em queda-livre', fontweight='bold')\n",
    "    return plt\n",
    "\n",
    "animat = ap(v,t,callback_plot=callplt)\n",
    "\n",
    "animat.render_cache()\n",
    "animat.render_mp4('air.mp4')"
   ]
  },
  {
   "cell_type": "code",
   "execution_count": null,
   "id": "8f9d43c9",
   "metadata": {},
   "outputs": [],
   "source": [
    "import time\n",
    "\n",
    "\n",
    "ping_list = [0]\n",
    "time_list = [time.time()]\n",
    "ping_last = 0\n",
    "\n",
    "\n",
    "\n"
   ]
  },
  {
   "cell_type": "code",
   "execution_count": null,
   "id": "ed5663fc",
   "metadata": {},
   "outputs": [],
   "source": [
    "import tqdm"
   ]
  },
  {
   "cell_type": "code",
   "execution_count": 35,
   "id": "a450da6a",
   "metadata": {
    "scrolled": false
   },
   "outputs": [
    {
     "name": "stdout",
     "output_type": "stream",
     "text": [
      "150 150\n"
     ]
    },
    {
     "name": "stderr",
     "output_type": "stream",
     "text": [
      "100%|█████████████████████████████████████████| 150/150 [01:46<00:00,  1.40it/s]\n"
     ]
    },
    {
     "name": "stdout",
     "output_type": "stream",
     "text": [
      "rendering mp4 ...\n"
     ]
    },
    {
     "data": {
      "text/plain": [
       "<Figure size 800x550 with 0 Axes>"
      ]
     },
     "metadata": {},
     "output_type": "display_data"
    }
   ],
   "source": [
    "from animateplot.video.video import RenderVideo\n",
    "\n",
    "m = 80\n",
    "k = 4.3\n",
    "g = 9.8\n",
    "t = np.linspace(0,90,150)\n",
    "\n",
    "def v(t):\n",
    "    return (m*k/g)*(1-np.exp(-t*k/m))\n",
    "\n",
    "\n",
    "v_f = [m*k/g for _ in t]\n",
    "\n",
    "\n",
    "f = m*np.gradient(v(t))\n",
    "\n",
    "images = []\n",
    "print(len(f),len(t))\n",
    "for i in tqdm.tqdm(range(len(f))):\n",
    "    plt.plot(t[:i],f[:i],'.',label='força res. no corpo do paraquedista\\n'+rf'$m={m}kg$'+'\\n'+rf'$k={k}N*s²/m²$'+'\\n'+rf'$g={g}m/s²$'+'\\n'+rf'$F_r = {f[i]:.1f}N$',c='green')\n",
    "\n",
    "    plt.xlabel(r'tempo (s)')\n",
    "    plt.ylabel(r'$N$')\n",
    "    \n",
    "    plt.ylim(-2,100)\n",
    "    plt.xlim(-2,100)\n",
    "    \n",
    "    plt.legend()\n",
    "    plt.title('problema do corpo em queda-livre', fontweight='bold')\n",
    "\n",
    "    plt.annotate('momento ideal \\npara abrir os paraquedas\\n'+r'$F_{res} ≃ 0N$',xy=(85,0),xytext=(61,15),arrowprops = dict(facecolor ='yellow',\n",
    "                                      shrink = 0.05))\n",
    "    \n",
    "    \n",
    "    plt.annotate(r'$F_{res}(t)=𝑘^2𝑚𝑒^{−𝑘𝑡/𝑚}/𝑔$',xy=(8,60),xytext=(15,65),size=12,arrowprops = dict(facecolor ='green',\n",
    "                                      shrink = 0.05))\n",
    "\n",
    "    path_img = f'.data/img_f_{i}.png'\n",
    "    plt.savefig(path_img)\n",
    "    plt.cla()\n",
    "    plt.clf()\n",
    "    images.append(path_img)\n",
    "    \n",
    "    \n",
    "\n",
    "render = RenderVideo(images,fps=10)\n",
    "print('rendering mp4 ...')\n",
    "render.render_mp4('f_.mp4')"
   ]
  },
  {
   "cell_type": "code",
   "execution_count": null,
   "id": "9389506f",
   "metadata": {
    "scrolled": true
   },
   "outputs": [
    {
     "name": "stdout",
     "output_type": "stream",
     "text": [
      "Requirement already satisfied: animateplot in /home/reinn/anaconda3/lib/python3.9/site-packages (0.4.1)\n",
      "Requirement already satisfied: numpy in /home/reinn/anaconda3/lib/python3.9/site-packages (from animateplot) (1.23.5)\n",
      "Requirement already satisfied: imageio in /home/reinn/anaconda3/lib/python3.9/site-packages (from animateplot) (2.19.3)\n",
      "Requirement already satisfied: opencv-python in /home/reinn/anaconda3/lib/python3.9/site-packages (from animateplot) (4.7.0.72)\n",
      "Requirement already satisfied: matplotlib in /home/reinn/anaconda3/lib/python3.9/site-packages (from animateplot) (3.5.2)\n",
      "Requirement already satisfied: pillow>=8.3.2 in /home/reinn/anaconda3/lib/python3.9/site-packages (from imageio->animateplot) (9.2.0)\n",
      "Requirement already satisfied: pyparsing>=2.2.1 in /home/reinn/anaconda3/lib/python3.9/site-packages (from matplotlib->animateplot) (3.0.9)\n",
      "Requirement already satisfied: packaging>=20.0 in /home/reinn/anaconda3/lib/python3.9/site-packages (from matplotlib->animateplot) (21.3)\n",
      "Requirement already satisfied: kiwisolver>=1.0.1 in /home/reinn/anaconda3/lib/python3.9/site-packages (from matplotlib->animateplot) (1.4.2)\n",
      "Requirement already satisfied: fonttools>=4.22.0 in /home/reinn/anaconda3/lib/python3.9/site-packages (from matplotlib->animateplot) (4.25.0)\n",
      "Requirement already satisfied: python-dateutil>=2.7 in /home/reinn/anaconda3/lib/python3.9/site-packages (from matplotlib->animateplot) (2.8.2)\n",
      "Requirement already satisfied: cycler>=0.10 in /home/reinn/anaconda3/lib/python3.9/site-packages (from matplotlib->animateplot) (0.11.0)\n",
      "Requirement already satisfied: six>=1.5 in /home/reinn/anaconda3/lib/python3.9/site-packages (from python-dateutil>=2.7->matplotlib->animateplot) (1.16.0)\n"
     ]
    }
   ],
   "source": [
    "!pip3 install animateplot -U"
   ]
  },
  {
   "cell_type": "code",
   "execution_count": null,
   "id": "03616ecb",
   "metadata": {},
   "outputs": [],
   "source": []
  }
 ],
 "metadata": {
  "kernelspec": {
   "display_name": "Python 3 (ipykernel)",
   "language": "python",
   "name": "python3"
  },
  "language_info": {
   "codemirror_mode": {
    "name": "ipython",
    "version": 3
   },
   "file_extension": ".py",
   "mimetype": "text/x-python",
   "name": "python",
   "nbconvert_exporter": "python",
   "pygments_lexer": "ipython3",
   "version": "3.9.13"
  }
 },
 "nbformat": 4,
 "nbformat_minor": 5
}
